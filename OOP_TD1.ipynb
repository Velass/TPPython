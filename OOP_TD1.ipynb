{
 "cells": [
  {
   "cell_type": "markdown",
   "metadata": {},
   "source": [
    "# Exercice 1 : Réfléchir en POO\n",
    "\n",
    "Réécrire le code suivant en utilisant la Programmation Orientée Objet (POO).\n",
    "\n",
    "```python\n",
    "# Code for calculating area of different shapes without OOP\n",
    "def get_square_area(side):\n",
    "    return side ** 2\n",
    "\n",
    "def get_rectangle_area(length, width):\n",
    "    return length * width\n",
    "\n",
    "def get_circle_area(radius):\n",
    "    return 3.14 * radius ** 2\n",
    "\n",
    "if __name__ == \"__main__\":\n",
    "    square1_side = 5\n",
    "    square1_area = get_square_area(side=square1_side)\n",
    "    print(f\"Square 1: side={square1_side}, area={square1_area}\")\n",
    "\n",
    "    square2_side = 4\n",
    "    square2_area = get_square_area(side=square2_side)\n",
    "    print(f\"Square 2: side={square2_side}, area={square2_area}\")\n",
    "\n",
    "    rectangle_length = 5\n",
    "    rectangle_width = 3\n",
    "    rectangle_area = get_rectangle_area(length=rectangle_length, width=rectangle_width)\n",
    "    print(f\"Rectangle: length={rectangle_length}, width={rectangle_width}, area={rectangle_area}\")\n",
    "\n",
    "    circle1_radius = 2\n",
    "    circle1_area = get_circle_area(radius=circle1_radius)\n",
    "    print(f\"Circle 1: radius={circle1_radius}, area={circle1_area}\")\n",
    "\n",
    "    circle2_radius = 3\n",
    "    circle2_area = get_circle_area(radius=circle2_radius)\n",
    "    print(f\"Circle 2: radius={circle2_radius}, area={circle2_area}\")\n"
   ]
  },
  {
   "cell_type": "code",
   "execution_count": 1,
   "metadata": {},
   "outputs": [],
   "source": [
    "class Shape:\n",
    "    def __init__(self, side=None, length=None, radius=None, width=None):\n",
    "        self.side = side\n",
    "        self.length = length\n",
    "        self.radius = radius\n",
    "        self.width = width\n",
    "    \n",
    "    def area(self):\n",
    "        return \"Area of the shape is not defined\"\n",
    "        \n",
    "    def __str__(self):\n",
    "        return \"shape side, lenght, radius, width is not defined\""
   ]
  },
  {
   "cell_type": "code",
   "execution_count": 2,
   "metadata": {},
   "outputs": [],
   "source": [
    "class Square(Shape):\n",
    "    def __init__(self, side):\n",
    "        super().__init__(side)\n",
    "    \n",
    "    def area(self):\n",
    "        return self.side * self.side\n",
    "\n",
    "    def __str__(self):\n",
    "        return f\"Square side is {self.side}\""
   ]
  },
  {
   "cell_type": "code",
   "execution_count": 3,
   "metadata": {},
   "outputs": [],
   "source": [
    "class Rectangle(Shape):\n",
    "    def __init__(self, length, width):\n",
    "        super().__init__(length=length, width=width)\n",
    "    \n",
    "    def area(self):\n",
    "        return self.length * self.width\n",
    "\n",
    "    def __str__(self):\n",
    "        return f\"Rectangle length is {self.length} and width is {self.width}\""
   ]
  },
  {
   "cell_type": "code",
   "execution_count": 6,
   "metadata": {},
   "outputs": [],
   "source": [
    "import math\n",
    "class Circle(Shape):\n",
    "    def __init__(self, radius):\n",
    "        super().__init__(radius=radius)\n",
    "    \n",
    "    def area(self):\n",
    "        return math.pi * self.radius * self.radius\n",
    "\n",
    "    def __str__(self):\n",
    "        return f\"Circle radius is {self.radius}\""
   ]
  },
  {
   "cell_type": "code",
   "execution_count": 8,
   "metadata": {},
   "outputs": [
    {
     "name": "stdout",
     "output_type": "stream",
     "text": [
      "Square side is 4\n",
      "16\n",
      "Rectangle length is 5 and width is 3\n",
      "15\n",
      "Circle radius is 2\n",
      "12.566370614359172\n"
     ]
    }
   ],
   "source": [
    "\n",
    "square = Square(side=4)\n",
    "print(square)\n",
    "print(square.area())\n",
    "\n",
    "# Rectangle\n",
    "rectangle = Rectangle(length=5, width=3)\n",
    "print(rectangle)\n",
    "print(rectangle.area())\n",
    "\n",
    "# Cercles\n",
    "circle = Circle(radius=2)\n",
    "print(circle)\n",
    "print(circle.area())"
   ]
  },
  {
   "cell_type": "markdown",
   "metadata": {},
   "source": [
    "## Exercice 3 : Jeu de cartes ##\n",
    "\n",
    "jeu de cartes.py : Créer une classe `JeuDeCartes` qui crée un jeu de 52 cartes.\n",
    "\n",
    "- Une carte est composée d’une valeur et d’une forme (coeur, carreau, pique, trèfle).\n",
    "\n",
    "- Les méthodes suivantes doivent être implémentées :\n",
    "  - **nom_carte** : affiche le nom d’une carte de manière littérale, ex. Valet de Coeur.\n",
    "  - **battre** : mélange le jeu de cartes (on utilisera la fonction `shuffle` du module `random`).\n",
    "  - **afficher** : permet d’afficher le jeu de cartes.\n",
    "  - **tirer** : permet d’extraire une carte du jeu.\n",
    "\n",
    "- Vous ferez un jeu de test, qui exécutera les points suivants :\n",
    "  - Créer un jeu de cartes.\n",
    "  - Mélanger le jeu de cartes (battre).\n",
    "  - Afficher le jeu de cartes mélangé.\n",
    "  - Tirer une à une toutes les cartes et les afficher.\n"
   ]
  },
  {
   "cell_type": "code",
   "execution_count": 14,
   "metadata": {},
   "outputs": [],
   "source": [
    "import random\n",
    "class JeuDeCartes:\n",
    "    def __init__(self):\n",
    "        valeurs = [\"2\", \"3\", \"4\", \"5\", \"6\", \"7\", \"8\", \"9\", \"10\", \"Valet\", \"Dame\", \"Roi\", \"As\"]\n",
    "        formes = [\"Coeur\", \"Carreau\", \"Trèfle\", \"Pique\"]\n",
    "        self.cartes = [(valeur, forme) for valeur in valeurs for forme in formes]\n",
    "        \n",
    "        \n",
    "    def nom_carte(self, valeur: str, forme: str) -> str:\n",
    "            return f\"{valeur} de {forme}\"\n",
    "        \n",
    "    def battre(self):\n",
    "            random.shuffle(self.cartes)\n",
    "        \n",
    "    def tirer(self):\n",
    "            return self.cartes.pop() if self.cartes else None\n",
    "        \n",
    "    def afficher(self):\n",
    "            print(self.cartes)"
   ]
  },
  {
   "cell_type": "code",
   "execution_count": 18,
   "metadata": {},
   "outputs": [
    {
     "name": "stdout",
     "output_type": "stream",
     "text": [
      "[('4', 'Carreau'), ('As', 'Coeur'), ('As', 'Carreau'), ('3', 'Pique'), ('9', 'Trèfle'), ('Dame', 'Carreau'), ('2', 'Pique'), ('8', 'Carreau'), ('2', 'Coeur'), ('5', 'Coeur'), ('4', 'Coeur'), ('9', 'Pique'), ('Valet', 'Trèfle'), ('7', 'Trèfle'), ('3', 'Coeur'), ('4', 'Trèfle'), ('As', 'Pique'), ('10', 'Pique'), ('2', 'Carreau'), ('6', 'Pique'), ('7', 'Pique'), ('8', 'Coeur'), ('7', 'Carreau'), ('Roi', 'Pique'), ('5', 'Carreau'), ('10', 'Trèfle'), ('Dame', 'Pique'), ('As', 'Trèfle'), ('Dame', 'Coeur'), ('6', 'Carreau'), ('9', 'Coeur'), ('Roi', 'Trèfle'), ('7', 'Coeur'), ('6', 'Coeur'), ('3', 'Carreau'), ('5', 'Pique'), ('10', 'Carreau'), ('8', 'Pique'), ('Valet', 'Pique'), ('2', 'Trèfle'), ('3', 'Trèfle'), ('4', 'Pique'), ('Roi', 'Coeur'), ('Roi', 'Carreau'), ('6', 'Trèfle'), ('Valet', 'Carreau'), ('Valet', 'Coeur'), ('Dame', 'Trèfle'), ('9', 'Carreau'), ('10', 'Coeur'), ('8', 'Trèfle'), ('5', 'Trèfle')]\n",
      "('5', 'Trèfle')\n",
      "('8', 'Trèfle')\n",
      "('10', 'Coeur')\n",
      "('9', 'Carreau')\n",
      "('Dame', 'Trèfle')\n",
      "('Valet', 'Coeur')\n",
      "('Valet', 'Carreau')\n",
      "('6', 'Trèfle')\n",
      "('Roi', 'Carreau')\n",
      "('Roi', 'Coeur')\n",
      "('4', 'Pique')\n",
      "('3', 'Trèfle')\n",
      "('2', 'Trèfle')\n",
      "('Valet', 'Pique')\n",
      "('8', 'Pique')\n",
      "('10', 'Carreau')\n",
      "('5', 'Pique')\n",
      "('3', 'Carreau')\n",
      "('6', 'Coeur')\n",
      "('7', 'Coeur')\n",
      "('Roi', 'Trèfle')\n",
      "('9', 'Coeur')\n",
      "('6', 'Carreau')\n",
      "('Dame', 'Coeur')\n",
      "('As', 'Trèfle')\n",
      "('Dame', 'Pique')\n",
      "('10', 'Trèfle')\n",
      "('5', 'Carreau')\n",
      "('Roi', 'Pique')\n",
      "('7', 'Carreau')\n",
      "('8', 'Coeur')\n",
      "('7', 'Pique')\n",
      "('6', 'Pique')\n",
      "('2', 'Carreau')\n",
      "('10', 'Pique')\n",
      "('As', 'Pique')\n",
      "('4', 'Trèfle')\n",
      "('3', 'Coeur')\n",
      "('7', 'Trèfle')\n",
      "('Valet', 'Trèfle')\n",
      "('9', 'Pique')\n",
      "('4', 'Coeur')\n",
      "('5', 'Coeur')\n",
      "('2', 'Coeur')\n",
      "('8', 'Carreau')\n",
      "('2', 'Pique')\n",
      "('Dame', 'Carreau')\n",
      "('9', 'Trèfle')\n",
      "('3', 'Pique')\n",
      "('As', 'Carreau')\n",
      "('As', 'Coeur')\n",
      "('4', 'Carreau')\n"
     ]
    }
   ],
   "source": [
    "jeu = JeuDeCartes()\n",
    "jeu.battre()\n",
    "jeu.afficher()\n",
    "\n",
    "while jeu.cartes:\n",
    "    print(jeu.tirer())"
   ]
  }
 ],
 "metadata": {
  "kernelspec": {
   "display_name": "Python 3",
   "language": "python",
   "name": "python3"
  },
  "language_info": {
   "codemirror_mode": {
    "name": "ipython",
    "version": 3
   },
   "file_extension": ".py",
   "mimetype": "text/x-python",
   "name": "python",
   "nbconvert_exporter": "python",
   "pygments_lexer": "ipython3",
   "version": "3.13.0"
  }
 },
 "nbformat": 4,
 "nbformat_minor": 2
}
