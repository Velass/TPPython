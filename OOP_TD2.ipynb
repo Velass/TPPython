{
 "cells": [
  {
   "cell_type": "markdown",
   "metadata": {},
   "source": [
    "## Exercice 2 : Ville ##\n",
    "\n",
    "- Ecrire une classe Ville ou une ville est définie par son nom et son nombre d’habitants.\n",
    "- Implémenter les getters, setters et __str__() pour permettre l’affichage des objets Ville.\n",
    "- A partir de cette classe, dérivez une classe Capitale ou l’on mémorise en plus le nom des monuments\n",
    "qu’elle abrite.\n",
    "- Impl ́ementer les getters, setters et __str__() pour permettre l’affichage des objets Capitale"
   ]
  },
  {
   "cell_type": "code",
   "execution_count": 1,
   "metadata": {},
   "outputs": [],
   "source": [
    "class Ville:\n",
    "    def __init__(self, nom: str, habitants: int):\n",
    "        self.nom = nom\n",
    "        self.habitants = habitants\n",
    "    @property\n",
    "    def nom(self):\n",
    "        return self.__nom\n",
    "    @nom.setter\n",
    "    def nom(self, nom):\n",
    "        self.__nom = nom\n",
    "    \n",
    "    @property\n",
    "    def habitants(self):\n",
    "        return self.__habitants\n",
    "    \n",
    "    @habitants.setter\n",
    "    def habitants(self, habitants):\n",
    "        self.__habitants = habitants\n",
    "    \n",
    "    def __str__(self):\n",
    "        return f\"{self.nom} : {self.habitants} habitants\"\n",
    "    "
   ]
  },
  {
   "cell_type": "code",
   "execution_count": 4,
   "metadata": {},
   "outputs": [],
   "source": [
    "class Capitale(Ville):\n",
    "    def __init__(self, nom: str, habitants: int, monuments: str):\n",
    "        super().__init__(nom, habitants)\n",
    "        self.__monuments = monuments\n",
    "    \n",
    "    @property\n",
    "    def monuments(self):\n",
    "        return self.__monuments\n",
    "    \n",
    "    @monuments.setter\n",
    "    def monuments(self, monuments):\n",
    "        self.__monuments = monuments\n",
    "    \n",
    "    def __str__(self):\n",
    "        return f\"{super().__str__()} et ses monuments : {self.monuments}\"\n",
    "    "
   ]
  },
  {
   "cell_type": "code",
   "execution_count": 6,
   "metadata": {},
   "outputs": [
    {
     "name": "stdout",
     "output_type": "stream",
     "text": [
      "Paris : 200000 habitants et ses monuments : ['Tour Eiffel', 'Louvre', 'Notre-Dame']\n"
     ]
    }
   ],
   "source": [
    "paris = Capitale(\"Paris\", 200000, [\"Tour Eiffel\", \"Louvre\", \"Notre-Dame\"])\n",
    "print(paris)"
   ]
  },
  {
   "cell_type": "markdown",
   "metadata": {},
   "source": [
    "# Exercice 4 : Pokémon - Devoir :)\n",
    "\n",
    "Les Pokémon sont certes de très mignonnes créatures, mais ils sont également un bon exemple pour illustrer l'héritage. Je vous propose donc de commencer par créer une classe Pokemon qui contient (entre autres) :\n",
    "\n",
    "- Un attribut `nom` qui représente le nom du Pokémon.\n",
    "- Un attribut `hp` (pour Health Points) qui représente les points de vie du Pokémon.\n",
    "- Un attribut qui s'appelle `atk` qui représente la force de base de l'attaque du Pokémon.\n",
    "- Un constructeur pour instancier des Pokémon adéquatement.\n",
    "- Des getters (accesseurs) qui permettent de consulter les attributs du Pokémon.\n",
    "- Une méthode `is_dead()` qui retourne un bool pour indiquer si un Pokémon est mort (`hp == 0`) ou non.\n",
    "- Une méthode `attaquer(p: Pokemon)` qui permet au Pokémon appelant d'attaquer le Pokémon passé en paramètre. L'attaque déduit `atk` points de la vie `hp` du Pokémon attaqué `p`.\n",
    "- Une redéfinition de la méthode `__str__()` qui affiche les informations du Pokémon.\n",
    "\n",
    "En plus des Pokémon normaux (décrits à travers la classe Pokemon) on ressence trois types de Pokémon. Les Pokémon de type Feu, les Pokémon de type Eau et les Pokémon de type Plante (en réalité il existe 17 types en tout mais on ne va pas s'amuser à tous les coder) :\n",
    "\n",
    "- Les Pokémon de type Feu sont super efficaces contre les Pokémon de type Plante et leur infligent deux fois plus de dégâts (`2*atk`). Par contre, ils sont très peu efficaces contre les Pokémon de type Eau ou de type Feu et ne leur infligent que la moitié des dégâts (`0.5*atk`). Ils infligent des dégâts normaux aux Pokémon de type Normal.\n",
    "\n",
    "- Les Pokémon de type Eau sont super efficaces contre les Pokémon de type Feu et leur infligent deux fois plus de dégâts (`2*atk`). Par contre, ils sont très peu efficaces contre les Pokémon de type Eau ou de type Plante et ne leur infligent que la moitié des dégâts (`0.5*atk`). Ils infligent des dégâts normaux aux Pokémon de type Normal.\n",
    "\n",
    "- Enfin, les Pokémon de type Plante sont super efficaces contre les Pokémon de type Eau et leur infligent deux fois plus de dégâts (`2*atk`). Par contre, ils sont très peu efficaces contre les Pokémon de type Plante ou de type Feu et ne leur infligent que la moitié des dégâts (`0.5*atk`). Ils infligent des dégâts normaux aux Pokémon de type Normal.\n",
    "\n",
    "Créez trois classes `PokemonFeu`, `PokemonEau` et `PokemonPlante` qui héritent de la classe Pokemon et qui représentent les trois types de Pokémon susmentionnés.\n",
    "\n",
    "Ensuite, amusez-vous à faire des combats de Pokémon.\n",
    "\n",
    "**Question bonus :** Quel principe de la POO permet d'utiliser la méthode `attaquer()` adéquate à chaque objet qui lui fait appel ?"
   ]
  },
  {
   "cell_type": "code",
   "execution_count": 19,
   "metadata": {},
   "outputs": [],
   "source": [
    "class Pokemon:\n",
    "    def __init__(self, nom: str, atk: int, hp: int):\n",
    "        self.__nom = nom\n",
    "        self.__atk = atk\n",
    "        self.__hp = hp\n",
    "    \n",
    "    @property\n",
    "    def nom(self):\n",
    "        return self.__nom\n",
    "    \n",
    "    @nom.setter\n",
    "    def nom(self, nom):\n",
    "        self.__nom = nom\n",
    "    \n",
    "    @property\n",
    "    def atk(self):\n",
    "        return self.__atk\n",
    "    \n",
    "    @atk.setter\n",
    "    def atk(self, atk):\n",
    "        self.__atk = atk\n",
    "    \n",
    "    @property\n",
    "    def hp(self):\n",
    "        return self.__hp\n",
    "    \n",
    "    @hp.setter\n",
    "    def hp(self, hp):\n",
    "        self.__hp = hp\n",
    "    \n",
    "    def is_dead(self):\n",
    "        if self.hp <= 0:\n",
    "            print(f\"{self.nom} est mort\")\n",
    "            return True\n",
    "        else :\n",
    "            print(f\"{self.nom} a survécu avec {self.hp} hp\")\n",
    "            return False\n",
    "    \n",
    "    def attaquer(self, adversaire):\n",
    "        adversaire.hp -= self.atk\n",
    "        print(f\"{self.nom} attaque {adversaire.nom} et lui inflige {self.atk} points de dégâts\")\n",
    "        \n",
    "    def __str__(self):\n",
    "        return f\"{self.nom} : {self.hp} hp et {self.atk} atk\""
   ]
  },
  {
   "cell_type": "code",
   "execution_count": 20,
   "metadata": {},
   "outputs": [],
   "source": [
    "class PokemonEau(Pokemon):\n",
    "    def __init__(self, nom: str, atk: int, hp: int):\n",
    "        super().__init__(nom, atk, hp)\n",
    "    \n",
    "    def attaquer(self, adversaire):\n",
    "        if isinstance(adversaire, PokemonFeu):\n",
    "            adversaire.hp -= self.atk * 2\n",
    "            print(f\"{self.nom} attaque {adversaire.nom} et lui inflige {self.atk * 2} points de dégâts\")\n",
    "        elif isinstance(adversaire, PokemonPlante):\n",
    "            adversaire.hp -= self.atk / 2\n",
    "            print(f\"{self.nom} attaque {adversaire.nom} et lui inflige {self.atk / 2} points de dégâts\")\n",
    "        elif isinstance(adversaire, PokemonEau):\n",
    "            adversaire.hp -= self.atk / 2\n",
    "            print(f\"{self.nom} attaque {adversaire.nom} et lui inflige {self.atk / 2} points de dégâts\")\n",
    "        else:\n",
    "            adversaire.hp -= self.atk\n",
    "            print(f\"{self.nom} attaque {adversaire.nom} et lui inflige {self.atk} points de dégâts\")\n",
    "    \n",
    "    def __str__(self):\n",
    "        return f\"{super().__str__()} (type eau)\""
   ]
  },
  {
   "cell_type": "code",
   "execution_count": 21,
   "metadata": {},
   "outputs": [],
   "source": [
    "class PokemonFeu(Pokemon):\n",
    "    def __init__(self, nom: str, atk: int, hp: int):\n",
    "        super().__init__(nom, atk, hp)\n",
    "    \n",
    "    def attaquer(self, adversaire):\n",
    "        if isinstance(adversaire, PokemonPlante):\n",
    "            adversaire.hp -= self.atk * 2\n",
    "            print(f\"{self.nom} attaque {adversaire.nom} et lui inflige {self.atk * 2} points de dégâts\")\n",
    "        elif isinstance(adversaire, PokemonEau):\n",
    "            adversaire.hp -= self.atk / 2\n",
    "            print(f\"{self.nom} attaque {adversaire.nom} et lui inflige {self.atk / 2} points de dégâts\")\n",
    "        elif isinstance(adversaire, PokemonFeu):\n",
    "            adversaire.hp -= self.atk / 2\n",
    "            print(f\"{self.nom} attaque {adversaire.nom} et lui inflige {self.atk / 2} points de dégâts\")\n",
    "        else:\n",
    "            adversaire.hp -= self.atk\n",
    "            print(f\"{self.nom} attaque {adversaire.nom} et lui inflige {self.atk} points de dégâts\")\n",
    "            "
   ]
  },
  {
   "cell_type": "code",
   "execution_count": 22,
   "metadata": {},
   "outputs": [],
   "source": [
    "class PokemonPlante(Pokemon):\n",
    "    def __init__(self, nom: str, atk: int, hp: int):\n",
    "        super().__init__(nom, atk, hp)\n",
    "    \n",
    "    def attaquer(self, adversaire):\n",
    "        if isinstance(adversaire, PokemonEau):\n",
    "            adversaire.hp -= self.atk * 2\n",
    "            print(f\"{self.nom} attaque {adversaire.nom} et lui inflige {self.atk * 2} points de dégâts\")\n",
    "        elif isinstance(adversaire, PokemonFeu):\n",
    "            adversaire.hp -= self.atk / 2\n",
    "            print(f\"{self.nom} attaque {adversaire.nom} et lui inflige {self.atk / 2} points de dégâts\")\n",
    "        elif isinstance(adversaire, PokemonPlante):\n",
    "            adversaire.hp -= self.atk / 2\n",
    "            print(f\"{self.nom} attaque {adversaire.nom} et lui inflige {self.atk / 2} points de dégâts\")\n",
    "        else:\n",
    "            adversaire.hp -= self.atk\n",
    "            print(f\"{self.nom} attaque {adversaire.nom} et lui inflige {self.atk} points de dégâts\")"
   ]
  },
  {
   "cell_type": "code",
   "execution_count": 25,
   "metadata": {},
   "outputs": [
    {
     "name": "stdout",
     "output_type": "stream",
     "text": [
      "Salameche : 20 hp et 100 atk\n",
      "Carapuce : 20 hp et 100 atk (type eau)\n",
      "Bulbizarre : 20 hp et 100 atk\n",
      "Salameche attaque Bulbizarre et lui inflige 200 points de dégâts\n",
      "Carapuce attaque Salameche et lui inflige 200 points de dégâts\n",
      "Bulbizarre attaque Carapuce et lui inflige 200 points de dégâts\n",
      "Bulbizarre est mort\n",
      "Salameche attaque Carapuce et lui inflige 50.0 points de dégâts\n",
      "Salameche attaque Salameche et lui inflige 50.0 points de dégâts\n",
      "Salameche attaque Ronflex et lui inflige 100 points de dégâts\n"
     ]
    }
   ],
   "source": [
    "salameche = PokemonFeu(\"Salameche\", 100, 20)\n",
    "carapuce = PokemonEau(\"Carapuce\", 100, 20)\n",
    "bulbizarre = PokemonPlante(\"Bulbizarre\", 100, 20)\n",
    "ronflex = Pokemon(\"Ronflex\", 100,20)\n",
    "\n",
    "\n",
    "print(salameche)\n",
    "print(carapuce)\n",
    "print(bulbizarre)\n",
    "\n",
    "salameche.attaquer(bulbizarre)\n",
    "carapuce.attaquer(salameche)\n",
    "bulbizarre.attaquer(carapuce)\n",
    "\n",
    "bulbizarre.is_dead()\n",
    "\n",
    "salameche.attaquer(carapuce)\n",
    "\n",
    "salameche.attaquer(salameche)\n",
    "\n",
    "salameche.attaquer(ronflex)\n"
   ]
  },
  {
   "cell_type": "code",
   "execution_count": null,
   "metadata": {},
   "outputs": [],
   "source": []
  }
 ],
 "metadata": {
  "kernelspec": {
   "display_name": "Python 3",
   "language": "python",
   "name": "python3"
  },
  "language_info": {
   "codemirror_mode": {
    "name": "ipython",
    "version": 3
   },
   "file_extension": ".py",
   "mimetype": "text/x-python",
   "name": "python",
   "nbconvert_exporter": "python",
   "pygments_lexer": "ipython3",
   "version": "3.13.0"
  }
 },
 "nbformat": 4,
 "nbformat_minor": 2
}
